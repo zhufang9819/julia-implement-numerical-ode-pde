{
 "cells": [
  {
   "cell_type": "code",
   "execution_count": 35,
   "metadata": {},
   "outputs": [],
   "source": [
    "using DifferentialEquations, Plots, FileIO"
   ]
  },
  {
   "cell_type": "markdown",
   "metadata": {},
   "source": [
    "We attempt to solve the one-dimensional heat eqation\n",
    "$$\n",
    "\\frac{\\partial u}{\\partial t} = \\alpha \\frac{\\partial^2 u}{\\partial x^2}\n",
    "$$\n",
    "the boundary condition for the one-dimensional heat equation is implemented using periodic boundary conditions. \n",
    "This means that the solution is assumed to be periodic in space, \n",
    "so the temperature at the first grid point is assumed to be equal to the temperature at the last grid point."
   ]
  },
  {
   "cell_type": "code",
   "execution_count": 38,
   "metadata": {},
   "outputs": [
    {
     "data": {
      "text/plain": [
       "heat_eqn (generic function with 1 method)"
      ]
     },
     "metadata": {},
     "output_type": "display_data"
    }
   ],
   "source": [
    "function heat_eqn(du, u, p, t)\n",
    "    # Extract spatial grid\n",
    "    x = p[2] # p = [alpha, x]\n",
    "\n",
    "    # Compute second spatial derivative using finite differences\n",
    "    du[1] = (u[2] - 2*u[1] + u[end])/(x[2] - x[1])^2\n",
    "    \n",
    "    for i in 2:(length(x))-1\n",
    "        du[i] = (u[i+1] - 2*u[i] + u[i-1]) / (x[2] - x[1])^2\n",
    "    end\n",
    "    \n",
    "    du[end] = (u[1] - 2*u[end] + u[end-1]) / (x[2] - x[1])^2\n",
    "    \n",
    "    # Multiply by thermal diffusivity to obtain time derivative\n",
    "    alpha = p[1]\n",
    "    du .*= alpha\n",
    "end"
   ]
  },
  {
   "cell_type": "code",
   "execution_count": 41,
   "metadata": {},
   "outputs": [
    {
     "data": {
      "text/plain": [
       "retcode: Success\n",
       "Interpolation: 3rd order Hermite\n",
       "t: 8-element Vector{Float64}:\n",
       "  0.0\n",
       "  9.999999999999999e-5\n",
       "  0.0010999999999999998\n",
       "  0.011099999999999997\n",
       "  0.11109999999999996\n",
       "  1.1110999999999995\n",
       " 11.111099999999993\n",
       " 12.0\n",
       "u: 8-element Vector{Vector{Float64}}:\n",
       " [1.0, 1.0, 1.0, 1.0, 1.0, 1.0, 1.0, 1.0, 1.0, 1.0  …  1.0, 1.0, 1.0, 1.0, 1.0, 1.0, 1.0, 1.0, 1.0, 1.0]\n",
       " [1.0, 1.0, 1.0, 1.0, 1.0, 1.0, 1.0, 1.0, 1.0, 1.0  …  1.0, 1.0, 1.0, 1.0, 1.0, 1.0, 1.0, 1.0, 1.0, 1.0]\n",
       " [1.0, 1.0, 1.0, 1.0, 1.0, 1.0, 1.0, 1.0, 1.0, 1.0  …  1.0, 1.0, 1.0, 1.0, 1.0, 1.0, 1.0, 1.0, 1.0, 1.0]\n",
       " [1.0, 1.0, 1.0, 1.0, 1.0, 1.0, 1.0, 1.0, 1.0, 1.0  …  1.0, 1.0, 1.0, 1.0, 1.0, 1.0, 1.0, 1.0, 1.0, 1.0]\n",
       " [1.0, 1.0, 1.0, 1.0, 1.0, 1.0, 1.0, 1.0, 1.0, 1.0  …  1.0, 1.0, 1.0, 1.0, 1.0, 1.0, 1.0, 1.0, 1.0, 1.0]\n",
       " [1.0, 1.0, 1.0, 1.0, 1.0, 1.0, 1.0, 1.0, 1.0, 1.0  …  1.0, 1.0, 1.0, 1.0, 1.0, 1.0, 1.0, 1.0, 1.0, 1.0]\n",
       " [1.0, 1.0, 1.0, 1.0, 1.0, 1.0, 1.0, 1.0, 1.0, 1.0  …  1.0, 1.0, 1.0, 1.0, 1.0, 1.0, 1.0, 1.0, 1.0, 1.0]\n",
       " [1.0, 1.0, 1.0, 1.0, 1.0, 1.0, 1.0, 1.0, 1.0, 1.0  …  1.0, 1.0, 1.0, 1.0, 1.0, 1.0, 1.0, 1.0, 1.0, 1.0]"
      ]
     },
     "metadata": {},
     "output_type": "display_data"
    }
   ],
   "source": [
    "# Define the spatial grid\n",
    "x = range(0, stop=1, length=100)\n",
    "\n",
    "# Define initial condition\n",
    "u0 = ones(100)\n",
    "\n",
    "# Set thermal diffusivity\n",
    "alpha = 0.1\n",
    "\n",
    "# Parameters of the equation\n",
    "p = [alpha, x]\n",
    "\n",
    "# Define the ODE problem\n",
    "prob = ODEProblem(heat_eqn, u0, (0.0, 12.0), p)\n",
    "\n",
    "# Solve ODE using RK method\n",
    "sol = solve(prob, RK4())"
   ]
  },
  {
   "cell_type": "code",
   "execution_count": 40,
   "metadata": {},
   "outputs": [
    {
     "name": "stderr",
     "output_type": "stream",
     "text": [
      "┌ Warning: Mapping to the storage type failed; perhaps your data had out-of-range values?\n",
      "│ Try `map(clamp01nan, img)` to clamp values to a valid range.\n",
      "└ @ ImageMagick C:\\Users\\zhufa\\.julia\\packages\\ImageMagick\\Fh2BX\\src\\ImageMagick.jl:179\n",
      "attempt to save state beyond implementation limit\n"
     ]
    }
   ],
   "source": [
    "# Extract temperature at final time\n",
    "t_final = sol.t[end]\n",
    "u_final = sol.u[end]\n",
    "\n",
    "# Plot temperature vs. position\n",
    "final_sol_fig = plot(x, u_final, xlabel=\"Position (m)\", ylabel=\"Temperature (K)\")\n",
    "save(\"heat_sol_final.png\", final_sol_fig)"
   ]
  },
  {
   "cell_type": "code",
   "execution_count": 11,
   "metadata": {},
   "outputs": [
    {
     "name": "stderr",
     "output_type": "stream",
     "text": [
      "┌ Warning: Mapping to the storage type failed; perhaps your data had out-of-range values?\n",
      "│ Try `map(clamp01nan, img)` to clamp values to a valid range.\n",
      "└ @ ImageMagick C:\\Users\\zhufa\\.julia\\packages\\ImageMagick\\Fh2BX\\src\\ImageMagick.jl:179\n",
      "Error encountered while save File{DataFormat{:GIF}, String}(\"heat_animation.gif\").\n",
      "\n",
      "Fatal error:\n"
     ]
    },
    {
     "ename": "CapturedException",
     "evalue": "MethodError: no method matching length(::Plots.AnimatedGif)\nClosest candidates are:\n  length(!Matched::Union{Base.KeySet, Base.ValueIterator}) at abstractdict.jl:58\n  length(!Matched::Union{ArrayInterfaceCore.BidiagonalIndex, ArrayInterfaceCore.TridiagonalIndex}) at C:\\Users\\zhufa\\.julia\\packages\\ArrayInterfaceCore\\PRhHD\\src\\ArrayInterfaceCore.jl:656\n  length(!Matched::Union{LinearAlgebra.Adjoint{T, <:Union{StaticArraysCore.StaticArray{Tuple{var\"#s2\"}, T, 1} where var\"#s2\", StaticArraysCore.StaticArray{Tuple{var\"#s3\", var\"#s4\"}, T, 2} where {var\"#s3\", var\"#s4\"}}}, LinearAlgebra.Diagonal{T, <:StaticArraysCore.StaticArray{Tuple{var\"#s13\"}, T, 1} where var\"#s13\"}, LinearAlgebra.Hermitian{T, <:StaticArraysCore.StaticArray{Tuple{var\"#s10\", var\"#s11\"}, T, 2} where {var\"#s10\", var\"#s11\"}}, LinearAlgebra.LowerTriangular{T, <:StaticArraysCore.StaticArray{Tuple{var\"#s18\", var\"#s19\"}, T, 2} where {var\"#s18\", var\"#s19\"}}, LinearAlgebra.Symmetric{T, <:StaticArraysCore.StaticArray{Tuple{var\"#s7\", var\"#s8\"}, T, 2} where {var\"#s7\", var\"#s8\"}}, LinearAlgebra.Transpose{T, <:Union{StaticArraysCore.StaticArray{Tuple{var\"#s2\"}, T, 1} where var\"#s2\", StaticArraysCore.StaticArray{Tuple{var\"#s3\", var\"#s4\"}, T, 2} where {var\"#s3\", var\"#s4\"}}}, LinearAlgebra.UnitLowerTriangular{T, <:StaticArraysCore.StaticArray{Tuple{var\"#s24\", var\"#s25\"}, T, 2} where {var\"#s24\", var\"#s25\"}}, LinearAlgebra.UnitUpperTriangular{T, <:StaticArraysCore.StaticArray{Tuple{var\"#s21\", var\"#s22\"}, T, 2} where {var\"#s21\", var\"#s22\"}}, LinearAlgebra.UpperTriangular{T, <:StaticArraysCore.StaticArray{Tuple{var\"#s15\", var\"#s16\"}, T, 2} where {var\"#s15\", var\"#s16\"}}, StaticArraysCore.StaticArray{Tuple{var\"#s25\"}, T, 1} where var\"#s25\", StaticArraysCore.StaticArray{Tuple{var\"#s1\", var\"#s3\"}, T, 2} where {var\"#s1\", var\"#s3\"}, StaticArraysCore.StaticArray{<:Tuple, T}} where T) at C:\\Users\\zhufa\\.julia\\packages\\StaticArrays\\B0HhH\\src\\abstractarray.jl:1\n  ...\nStacktrace:\n  [1] length(g::Base.Generator{Plots.AnimatedGif, ImageMagick.var\"#42#43\"{typeof(identity)}})\n    @ Base .\\generator.jl:50\n  [2] _similar_shape(itr::Base.Generator{Plots.AnimatedGif, ImageMagick.var\"#42#43\"{typeof(identity)}}, #unused#::Base.HasLength)\n    @ Base .\\array.jl:663\n  [3] collect(itr::Base.Generator{Plots.AnimatedGif, ImageMagick.var\"#42#43\"{typeof(identity)}})\n    @ Base .\\array.jl:786\n  [4] map(f::Function, A::Plots.AnimatedGif)\n    @ Base .\\abstractarray.jl:2961\n  [5] image2wand(img::Any, mapi::typeof(identity), quality::Nothing, permute_horizontal::Bool; kwargs::Base.Pairs{Symbol, Float64, Tuple{Symbol}, NamedTuple{(:duration,), Tuple{Float64}}})\n    @ ImageMagick C:\\Users\\zhufa\\.julia\\packages\\ImageMagick\\Fh2BX\\src\\ImageMagick.jl:177\n  [6] save_(filename::String, img::Any, permute_horizontal::Bool; mapi::Function, quality::Nothing, kwargs::Base.Pairs{Symbol, Float64, Tuple{Symbol}, NamedTuple{(:duration,), Tuple{Float64}}})\n    @ ImageMagick C:\\Users\\zhufa\\.julia\\packages\\ImageMagick\\Fh2BX\\src\\ImageMagick.jl:162\n  [7] save(imagefile::File, args::Any; key_args::Base.Pairs{Symbol, Float64, Tuple{Symbol}, NamedTuple{(:duration,), Tuple{Float64}}})\n    @ ImageMagick C:\\Users\\zhufa\\.julia\\packages\\ImageMagick\\Fh2BX\\src\\ImageMagick.jl:126\n  [8] invokelatest(::Any, ::Any, ::Vararg{Any}; kwargs::Base.Pairs{Symbol, Float64, Tuple{Symbol}, NamedTuple{(:duration,), Tuple{Float64}}})\n    @ Base .\\essentials.jl:731\n  [9] action(call::Symbol, libraries::Vector{Union{Base.PkgId, Module}}, file::FileIO.Formatted, args::Plots.AnimatedGif; options::Base.Pairs{Symbol, Float64, Tuple{Symbol}, NamedTuple{(:duration,), Tuple{Float64}}})\n    @ FileIO C:\\Users\\zhufa\\.julia\\packages\\FileIO\\aP78L\\src\\loadsave.jl:219\n [10] action(call::Symbol, libraries::Vector{Union{Base.PkgId, Module}}, sym::Symbol, file::String, args::Plots.AnimatedGif; options::Base.Pairs{Symbol, Float64, Tuple{Symbol}, NamedTuple{(:duration,), Tuple{Float64}}})\n    @ FileIO C:\\Users\\zhufa\\.julia\\packages\\FileIO\\aP78L\\src\\loadsave.jl:185\n [11] #save#20\n    @ C:\\Users\\zhufa\\.julia\\packages\\FileIO\\aP78L\\src\\loadsave.jl:129 [inlined]\n [12] top-level scope\n    @ d:\\Github\\julia-implement-numerical-ode-pde\\rk4_mol_solve_heatEq.ipynb:27",
     "output_type": "error",
     "traceback": [
      "MethodError: no method matching length(::Plots.AnimatedGif)\n",
      "Closest candidates are:\n",
      "  length(!Matched::Union{Base.KeySet, Base.ValueIterator}) at abstractdict.jl:58\n",
      "  length(!Matched::Union{ArrayInterfaceCore.BidiagonalIndex, ArrayInterfaceCore.TridiagonalIndex}) at C:\\Users\\zhufa\\.julia\\packages\\ArrayInterfaceCore\\PRhHD\\src\\ArrayInterfaceCore.jl:656\n",
      "  length(!Matched::Union{LinearAlgebra.Adjoint{T, <:Union{StaticArraysCore.StaticArray{Tuple{var\"#s2\"}, T, 1} where var\"#s2\", StaticArraysCore.StaticArray{Tuple{var\"#s3\", var\"#s4\"}, T, 2} where {var\"#s3\", var\"#s4\"}}}, LinearAlgebra.Diagonal{T, <:StaticArraysCore.StaticArray{Tuple{var\"#s13\"}, T, 1} where var\"#s13\"}, LinearAlgebra.Hermitian{T, <:StaticArraysCore.StaticArray{Tuple{var\"#s10\", var\"#s11\"}, T, 2} where {var\"#s10\", var\"#s11\"}}, LinearAlgebra.LowerTriangular{T, <:StaticArraysCore.StaticArray{Tuple{var\"#s18\", var\"#s19\"}, T, 2} where {var\"#s18\", var\"#s19\"}}, LinearAlgebra.Symmetric{T, <:StaticArraysCore.StaticArray{Tuple{var\"#s7\", var\"#s8\"}, T, 2} where {var\"#s7\", var\"#s8\"}}, LinearAlgebra.Transpose{T, <:Union{StaticArraysCore.StaticArray{Tuple{var\"#s2\"}, T, 1} where var\"#s2\", StaticArraysCore.StaticArray{Tuple{var\"#s3\", var\"#s4\"}, T, 2} where {var\"#s3\", var\"#s4\"}}}, LinearAlgebra.UnitLowerTriangular{T, <:StaticArraysCore.StaticArray{Tuple{var\"#s24\", var\"#s25\"}, T, 2} where {var\"#s24\", var\"#s25\"}}, LinearAlgebra.UnitUpperTriangular{T, <:StaticArraysCore.StaticArray{Tuple{var\"#s21\", var\"#s22\"}, T, 2} where {var\"#s21\", var\"#s22\"}}, LinearAlgebra.UpperTriangular{T, <:StaticArraysCore.StaticArray{Tuple{var\"#s15\", var\"#s16\"}, T, 2} where {var\"#s15\", var\"#s16\"}}, StaticArraysCore.StaticArray{Tuple{var\"#s25\"}, T, 1} where var\"#s25\", StaticArraysCore.StaticArray{Tuple{var\"#s1\", var\"#s3\"}, T, 2} where {var\"#s1\", var\"#s3\"}, StaticArraysCore.StaticArray{<:Tuple, T}} where T) at C:\\Users\\zhufa\\.julia\\packages\\StaticArrays\\B0HhH\\src\\abstractarray.jl:1\n",
      "  ...\n",
      "Stacktrace:\n",
      "  [1] length(g::Base.Generator{Plots.AnimatedGif, ImageMagick.var\"#42#43\"{typeof(identity)}})\n",
      "    @ Base .\\generator.jl:50\n",
      "  [2] _similar_shape(itr::Base.Generator{Plots.AnimatedGif, ImageMagick.var\"#42#43\"{typeof(identity)}}, #unused#::Base.HasLength)\n",
      "    @ Base .\\array.jl:663\n",
      "  [3] collect(itr::Base.Generator{Plots.AnimatedGif, ImageMagick.var\"#42#43\"{typeof(identity)}})\n",
      "    @ Base .\\array.jl:786\n",
      "  [4] map(f::Function, A::Plots.AnimatedGif)\n",
      "    @ Base .\\abstractarray.jl:2961\n",
      "  [5] image2wand(img::Any, mapi::typeof(identity), quality::Nothing, permute_horizontal::Bool; kwargs::Base.Pairs{Symbol, Float64, Tuple{Symbol}, NamedTuple{(:duration,), Tuple{Float64}}})\n",
      "    @ ImageMagick C:\\Users\\zhufa\\.julia\\packages\\ImageMagick\\Fh2BX\\src\\ImageMagick.jl:177\n",
      "  [6] save_(filename::String, img::Any, permute_horizontal::Bool; mapi::Function, quality::Nothing, kwargs::Base.Pairs{Symbol, Float64, Tuple{Symbol}, NamedTuple{(:duration,), Tuple{Float64}}})\n",
      "    @ ImageMagick C:\\Users\\zhufa\\.julia\\packages\\ImageMagick\\Fh2BX\\src\\ImageMagick.jl:162\n",
      "  [7] save(imagefile::File, args::Any; key_args::Base.Pairs{Symbol, Float64, Tuple{Symbol}, NamedTuple{(:duration,), Tuple{Float64}}})\n",
      "    @ ImageMagick C:\\Users\\zhufa\\.julia\\packages\\ImageMagick\\Fh2BX\\src\\ImageMagick.jl:126\n",
      "  [8] invokelatest(::Any, ::Any, ::Vararg{Any}; kwargs::Base.Pairs{Symbol, Float64, Tuple{Symbol}, NamedTuple{(:duration,), Tuple{Float64}}})\n",
      "    @ Base .\\essentials.jl:731\n",
      "  [9] action(call::Symbol, libraries::Vector{Union{Base.PkgId, Module}}, file::FileIO.Formatted, args::Plots.AnimatedGif; options::Base.Pairs{Symbol, Float64, Tuple{Symbol}, NamedTuple{(:duration,), Tuple{Float64}}})\n",
      "    @ FileIO C:\\Users\\zhufa\\.julia\\packages\\FileIO\\aP78L\\src\\loadsave.jl:219\n",
      " [10] action(call::Symbol, libraries::Vector{Union{Base.PkgId, Module}}, sym::Symbol, file::String, args::Plots.AnimatedGif; options::Base.Pairs{Symbol, Float64, Tuple{Symbol}, NamedTuple{(:duration,), Tuple{Float64}}})\n",
      "    @ FileIO C:\\Users\\zhufa\\.julia\\packages\\FileIO\\aP78L\\src\\loadsave.jl:185\n",
      " [11] #save#20\n",
      "    @ C:\\Users\\zhufa\\.julia\\packages\\FileIO\\aP78L\\src\\loadsave.jl:129 [inlined]\n",
      " [12] top-level scope\n",
      "    @ d:\\Github\\julia-implement-numerical-ode-pde\\rk4_mol_solve_heatEq.ipynb:27\n",
      "\n",
      "Stacktrace:\n",
      " [1] handle_error(e::MethodError, q::Base.PkgId, bt::Vector{Union{Ptr{Nothing}, Base.InterpreterIP}})\n",
      "   @ FileIO C:\\Users\\zhufa\\.julia\\packages\\FileIO\\aP78L\\src\\error_handling.jl:61\n",
      " [2] handle_exceptions(exceptions::Vector{Tuple{Any, Union{Base.PkgId, Module}, Vector}}, action::String)\n",
      "   @ FileIO C:\\Users\\zhufa\\.julia\\packages\\FileIO\\aP78L\\src\\error_handling.jl:56\n",
      " [3] action(call::Symbol, libraries::Vector{Union{Base.PkgId, Module}}, file::FileIO.Formatted, args::Plots.AnimatedGif; options::Base.Pairs{Symbol, Float64, Tuple{Symbol}, NamedTuple{(:duration,), Tuple{Float64}}})\n",
      "   @ FileIO C:\\Users\\zhufa\\.julia\\packages\\FileIO\\aP78L\\src\\loadsave.jl:228\n",
      " [4] action(call::Symbol, libraries::Vector{Union{Base.PkgId, Module}}, sym::Symbol, file::String, args::Plots.AnimatedGif; options::Base.Pairs{Symbol, Float64, Tuple{Symbol}, NamedTuple{(:duration,), Tuple{Float64}}})\n",
      "   @ FileIO C:\\Users\\zhufa\\.julia\\packages\\FileIO\\aP78L\\src\\loadsave.jl:185\n",
      " [5] #save#20\n",
      "   @ C:\\Users\\zhufa\\.julia\\packages\\FileIO\\aP78L\\src\\loadsave.jl:129 [inlined]\n",
      " [6] top-level scope\n",
      "   @ d:\\Github\\julia-implement-numerical-ode-pde\\rk4_mol_solve_heatEq.ipynb:27"
     ]
    }
   ],
   "source": [
    "# Animate temperature vs. position\n",
    "# anim = animate(x, sol.u, xlabel=\"Position (m)\", ylabel=\"Temperature (K)\")\n",
    "\n",
    "# Create empty list of plots\n",
    "plots = []\n",
    "\n",
    "# Extract time values and solution\n",
    "t = sol.t\n",
    "u = sol.u\n",
    "\n",
    "# Iterate over time steps\n",
    "for i in 1:length(t)\n",
    "    # Extract solution at time t[i]\n",
    "    u_i = u[i, :]\n",
    "    \n",
    "    # Create plot of solution\n",
    "    pp = plot(x, u_i, xlabel=\"Position\", ylabel=\"Temperature\")\n",
    "    \n",
    "    # Add plot to list\n",
    "    push!(plots, pp)\n",
    "end\n",
    "\n",
    "# Animate plots\n",
    "anim = animate(plots)\n",
    "\n",
    "# Save animation to file\n",
    "save(\"heat_animation.gif\", anim, duration=1/24)"
   ]
  },
  {
   "cell_type": "code",
   "execution_count": 14,
   "metadata": {},
   "outputs": [
    {
     "ename": "BoundsError",
     "evalue": "BoundsError: attempt to access 100-element Vector{Float64} at index [1:7047]",
     "output_type": "error",
     "traceback": [
      "BoundsError: attempt to access 100-element Vector{Float64} at index [1:7047]",
      "",
      "Stacktrace:",
      "  [1] throw_boundserror(A::Vector{Float64}, I::Tuple{UnitRange{Int64}})",
      "    @ Base .\\abstractarray.jl:703",
      "  [2] checkbounds",
      "    @ .\\abstractarray.jl:668 [inlined]",
      "  [3] getindex(A::Vector{Float64}, I::UnitRange{Int64})",
      "    @ Base .\\array.jl:930",
      "  [4] gr_draw_segments(series::Plots.Series, x::Vector{Float64}, y::Vector{Float64}, z::Nothing, fillrange::Nothing, clims::Tuple{Float64, Float64})",
      "    @ Plots C:\\Users\\zhufa\\.julia\\packages\\Plots\\Hxe7H\\src\\backends\\gr.jl:1789",
      "  [5] gr_add_series(sp::Plots.Subplot{Plots.GRBackend}, series::Plots.Series)",
      "    @ Plots C:\\Users\\zhufa\\.julia\\packages\\Plots\\Hxe7H\\src\\backends\\gr.jl:1706",
      "  [6] gr_display(sp::Plots.Subplot{Plots.GRBackend}, w::Measures.AbsoluteLength, h::Measures.AbsoluteLength, vp_canvas::Plots.GRViewport{Float64})",
      "    @ Plots C:\\Users\\zhufa\\.julia\\packages\\Plots\\Hxe7H\\src\\backends\\gr.jl:956",
      "  [7] (::Plots.var\"#528#529\"{Int64, Int64, Plots.GRViewport{Float64}})(sp::Plots.Subplot{Plots.GRBackend})",
      "    @ Plots C:\\Users\\zhufa\\.julia\\packages\\Plots\\Hxe7H\\src\\backends\\gr.jl:680",
      "  [8] foreach(f::Plots.var\"#528#529\"{Int64, Int64, Plots.GRViewport{Float64}}, itr::Vector{Plots.Subplot})",
      "    @ Base .\\abstractarray.jl:2774",
      "  [9] gr_display(plt::Plots.Plot{Plots.GRBackend}, dpi_factor::Int64)",
      "    @ Plots C:\\Users\\zhufa\\.julia\\packages\\Plots\\Hxe7H\\src\\backends\\gr.jl:680",
      " [10] #571",
      "    @ C:\\Users\\zhufa\\.julia\\packages\\Plots\\Hxe7H\\src\\backends\\gr.jl:2014 [inlined]",
      " [11] withenv(::Plots.var\"#571#572\"{Plots.Plot{Plots.GRBackend}, Int64}, ::Pair{String, String}, ::Vararg{Pair{String, String}})",
      "    @ Base .\\env.jl:172",
      " [12] _show(io::IOBuffer, #unused#::MIME{Symbol(\"image/svg+xml\")}, plt::Plots.Plot{Plots.GRBackend})",
      "    @ Plots C:\\Users\\zhufa\\.julia\\packages\\Plots\\Hxe7H\\src\\backends\\gr.jl:2009",
      " [13] #invokelatest#2",
      "    @ .\\essentials.jl:729 [inlined]",
      " [14] invokelatest",
      "    @ .\\essentials.jl:726 [inlined]",
      " [15] show(io::IOBuffer, m::MIME{Symbol(\"image/svg+xml\")}, plt::Plots.Plot{Plots.GRBackend})",
      "    @ Plots C:\\Users\\zhufa\\.julia\\packages\\Plots\\Hxe7H\\src\\output.jl:237",
      " [16] sprint(::Function, ::MIME{Symbol(\"image/svg+xml\")}, ::Vararg{Any}; context::Nothing, sizehint::Int64)",
      "    @ Base .\\strings\\io.jl:114",
      " [17] sprint",
      "    @ .\\strings\\io.jl:107 [inlined]",
      " [18] _ijulia_display_dict(plt::Plots.Plot{Plots.GRBackend})",
      "    @ Plots C:\\Users\\zhufa\\.julia\\packages\\Plots\\Hxe7H\\src\\ijulia.jl:47",
      " [19] display_dict(plt::Plots.Plot{Plots.GRBackend})",
      "    @ Plots C:\\Users\\zhufa\\.julia\\packages\\Plots\\Hxe7H\\src\\init.jl:60",
      " [20] #invokelatest#2",
      "    @ .\\essentials.jl:729 [inlined]",
      " [21] invokelatest",
      "    @ .\\essentials.jl:726 [inlined]",
      " [22] execute_request(socket::ZMQ.Socket, msg::IJulia.Msg)",
      "    @ IJulia C:\\Users\\zhufa\\.julia\\packages\\IJulia\\AQu2H\\src\\execute_request.jl:112",
      " [23] #invokelatest#2",
      "    @ .\\essentials.jl:729 [inlined]",
      " [24] invokelatest",
      "    @ .\\essentials.jl:726 [inlined]",
      " [25] eventloop(socket::ZMQ.Socket)",
      "    @ IJulia C:\\Users\\zhufa\\.julia\\packages\\IJulia\\AQu2H\\src\\eventloop.jl:8",
      " [26] (::IJulia.var\"#15#18\")()",
      "    @ IJulia .\\task.jl:484"
     ]
    }
   ],
   "source": [
    "\n",
    "using DifferentialEquations, Plots\n",
    "\n",
    "# Define heat equation\n",
    "function heat_eqn(du, u, p, t)\n",
    "    du[1] = (u[2] - 2*u[1] + u[end]) / (p[1][2] - p[1][1])^2\n",
    "end\n",
    "\n",
    "# Set domain\n",
    "L = 1.0\n",
    "N = 100\n",
    "x = range(0, L, length=N)\n",
    "\n",
    "# Set initial and boundary conditions\n",
    "u0 = [sin(2*pi*x) for x in x]\n",
    "\n",
    "# Set time step\n",
    "dt = 0.1\n",
    "\n",
    "# Define parameters\n",
    "p = [x]\n",
    "\n",
    "# Create ODE problem\n",
    "prob = ODEProblem(heat_eqn, u0, (0.0, 1.0), p)\n",
    "\n",
    "# Solve ODE\n",
    "sol = solve(prob, RK4(), dt=dt)\n",
    "\n",
    "# Extract time values and solution\n",
    "t = sol.t\n",
    "u = sol.u\n",
    "\n",
    "# Plot solution\n",
    "plot(t, u[1, :], xlabel=\"Time\", ylabel=\"Temperature\", title=\"Solution of 1D Heat Equation\")"
   ]
  },
  {
   "cell_type": "code",
   "execution_count": 33,
   "metadata": {},
   "outputs": [
    {
     "data": {
      "text/plain": [
       "100-element Vector{Float64}:\n",
       "  0.03170131260506291\n",
       "  0.0634239196565645\n",
       "  0.12659245357374926\n",
       "  0.1892512443604102\n",
       "  0.2511479871810792\n",
       "  0.31203344569848707\n",
       "  0.3716624556603275\n",
       "  0.4297949120891716\n",
       "  0.4861967361004687\n",
       "  0.5406408174555976\n",
       "  0.5929079290546404\n",
       "  0.6427876096865393\n",
       "  0.6900790114821119\n",
       "  ⋮\n",
       " -0.6427876096865396\n",
       " -0.5929079290546408\n",
       " -0.5406408174555982\n",
       " -0.4861967361004688\n",
       " -0.4297949120891719\n",
       " -0.37166245566032724\n",
       " -0.31203344569848707\n",
       " -0.2511479871810794\n",
       " -0.18925124436041063\n",
       " -0.12659245357374993\n",
       " -0.06342391965656452\n",
       " -2.4492935982947064e-16"
      ]
     },
     "execution_count": 33,
     "metadata": {},
     "output_type": "execute_result"
    }
   ],
   "source": [
    "u[:][1]"
   ]
  },
  {
   "cell_type": "code",
   "execution_count": 34,
   "metadata": {},
   "outputs": [
    {
     "name": "stdout",
     "output_type": "stream",
     "text": []
    },
    {
     "name": "stderr",
     "output_type": "stream",
     "text": [
      "attempt to save state beyond implementation limit\n",
      "attempt to save state beyond implementation limit\n",
      "attempt to save state beyond implementation limit\n"
     ]
    }
   ],
   "source": [
    "# Plot solution\n",
    "plot(t, u[:, 1], xlabel=\"Time\", ylabel=\"Temperature\", title=\"Solution of 1D Heat Equation\")"
   ]
  },
  {
   "cell_type": "code",
   "execution_count": 29,
   "metadata": {},
   "outputs": [
    {
     "data": {
      "text/plain": [
       "7047-element Vector{Vector{Float64}}:\n",
       " [0.0, 0.0634239196565645, 0.12659245357374926, 0.1892512443604102, 0.2511479871810792, 0.31203344569848707, 0.3716624556603275, 0.4297949120891716, 0.4861967361004687, 0.5406408174555976  …  -0.5406408174555982, -0.4861967361004688, -0.4297949120891719, -0.37166245566032724, -0.31203344569848707, -0.2511479871810794, -0.18925124436041063, -0.12659245357374993, -0.06342391965656452, -2.4492935982947064e-16]\n",
       " [0.014607951952862436, 0.0634239196565645, 0.12659245357374926, 0.1892512443604102, 0.2511479871810792, 0.31203344569848707, 0.3716624556603275, 0.4297949120891716, 0.4861967361004687, 0.5406408174555976  …  -0.5406408174555982, -0.4861967361004688, -0.4297949120891719, -0.37166245566032724, -0.31203344569848707, -0.2511479871810794, -0.18925124436041063, -0.12659245357374993, -0.06342391965656452, -2.4492935982947064e-16]\n",
       " [0.01815852428671947, 0.0634239196565645, 0.12659245357374926, 0.1892512443604102, 0.2511479871810792, 0.31203344569848707, 0.3716624556603275, 0.4297949120891716, 0.4861967361004687, 0.5406408174555976  …  -0.5406408174555982, -0.4861967361004688, -0.4297949120891719, -0.37166245566032724, -0.31203344569848707, -0.2511479871810794, -0.18925124436041063, -0.12659245357374993, -0.06342391965656452, -2.4492935982947064e-16]\n",
       " [0.023604798756065217, 0.0634239196565645, 0.12659245357374926, 0.1892512443604102, 0.2511479871810792, 0.31203344569848707, 0.3716624556603275, 0.4297949120891716, 0.4861967361004687, 0.5406408174555976  …  -0.5406408174555982, -0.4861967361004688, -0.4297949120891719, -0.37166245566032724, -0.31203344569848707, -0.2511479871810794, -0.18925124436041063, -0.12659245357374993, -0.06342391965656452, -2.4492935982947064e-16]\n",
       " [0.02635924274014161, 0.0634239196565645, 0.12659245357374926, 0.1892512443604102, 0.2511479871810792, 0.31203344569848707, 0.3716624556603275, 0.4297949120891716, 0.4861967361004687, 0.5406408174555976  …  -0.5406408174555982, -0.4861967361004688, -0.4297949120891719, -0.37166245566032724, -0.31203344569848707, -0.2511479871810794, -0.18925124436041063, -0.12659245357374993, -0.06342391965656452, -2.4492935982947064e-16]\n",
       " [0.028733647578035253, 0.0634239196565645, 0.12659245357374926, 0.1892512443604102, 0.2511479871810792, 0.31203344569848707, 0.3716624556603275, 0.4297949120891716, 0.4861967361004687, 0.5406408174555976  …  -0.5406408174555982, -0.4861967361004688, -0.4297949120891719, -0.37166245566032724, -0.31203344569848707, -0.2511479871810794, -0.18925124436041063, -0.12659245357374993, -0.06342391965656452, -2.4492935982947064e-16]\n",
       " [0.030067122363761436, 0.0634239196565645, 0.12659245357374926, 0.1892512443604102, 0.2511479871810792, 0.31203344569848707, 0.3716624556603275, 0.4297949120891716, 0.4861967361004687, 0.5406408174555976  …  -0.5406408174555982, -0.4861967361004688, -0.4297949120891719, -0.37166245566032724, -0.31203344569848707, -0.2511479871810794, -0.18925124436041063, -0.12659245357374993, -0.06342391965656452, -2.4492935982947064e-16]\n",
       " [0.030922505403144854, 0.0634239196565645, 0.12659245357374926, 0.1892512443604102, 0.2511479871810792, 0.31203344569848707, 0.3716624556603275, 0.4297949120891716, 0.4861967361004687, 0.5406408174555976  …  -0.5406408174555982, -0.4861967361004688, -0.4297949120891719, -0.37166245566032724, -0.31203344569848707, -0.2511479871810794, -0.18925124436041063, -0.12659245357374993, -0.06342391965656452, -2.4492935982947064e-16]\n",
       " [0.0313591420827832, 0.0634239196565645, 0.12659245357374926, 0.1892512443604102, 0.2511479871810792, 0.31203344569848707, 0.3716624556603275, 0.4297949120891716, 0.4861967361004687, 0.5406408174555976  …  -0.5406408174555982, -0.4861967361004688, -0.4297949120891719, -0.37166245566032724, -0.31203344569848707, -0.2511479871810794, -0.18925124436041063, -0.12659245357374993, -0.06342391965656452, -2.4492935982947064e-16]\n",
       " [0.0315766913132563, 0.0634239196565645, 0.12659245357374926, 0.1892512443604102, 0.2511479871810792, 0.31203344569848707, 0.3716624556603275, 0.4297949120891716, 0.4861967361004687, 0.5406408174555976  …  -0.5406408174555982, -0.4861967361004688, -0.4297949120891719, -0.37166245566032724, -0.31203344569848707, -0.2511479871810794, -0.18925124436041063, -0.12659245357374993, -0.06342391965656452, -2.4492935982947064e-16]\n",
       " ⋮\n",
       " [0.031701312604021585, 0.0634239196565645, 0.12659245357374926, 0.1892512443604102, 0.2511479871810792, 0.31203344569848707, 0.3716624556603275, 0.4297949120891716, 0.4861967361004687, 0.5406408174555976  …  -0.5406408174555982, -0.4861967361004688, -0.4297949120891719, -0.37166245566032724, -0.31203344569848707, -0.2511479871810794, -0.18925124436041063, -0.12659245357374993, -0.06342391965656452, -2.4492935982947064e-16]\n",
       " [0.03170131260659883, 0.0634239196565645, 0.12659245357374926, 0.1892512443604102, 0.2511479871810792, 0.31203344569848707, 0.3716624556603275, 0.4297949120891716, 0.4861967361004687, 0.5406408174555976  …  -0.5406408174555982, -0.4861967361004688, -0.4297949120891719, -0.37166245566032724, -0.31203344569848707, -0.2511479871810794, -0.18925124436041063, -0.12659245357374993, -0.06342391965656452, -2.4492935982947064e-16]\n",
       " [0.031701312605030514, 0.0634239196565645, 0.12659245357374926, 0.1892512443604102, 0.2511479871810792, 0.31203344569848707, 0.3716624556603275, 0.4297949120891716, 0.4861967361004687, 0.5406408174555976  …  -0.5406408174555982, -0.4861967361004688, -0.4297949120891719, -0.37166245566032724, -0.31203344569848707, -0.2511479871810794, -0.18925124436041063, -0.12659245357374993, -0.06342391965656452, -2.4492935982947064e-16]\n",
       " [0.03170131260523887, 0.0634239196565645, 0.12659245357374926, 0.1892512443604102, 0.2511479871810792, 0.31203344569848707, 0.3716624556603275, 0.4297949120891716, 0.4861967361004687, 0.5406408174555976  …  -0.5406408174555982, -0.4861967361004688, -0.4297949120891719, -0.37166245566032724, -0.31203344569848707, -0.2511479871810794, -0.18925124436041063, -0.12659245357374993, -0.06342391965656452, -2.4492935982947064e-16]\n",
       " [0.03170131260722389, 0.0634239196565645, 0.12659245357374926, 0.1892512443604102, 0.2511479871810792, 0.31203344569848707, 0.3716624556603275, 0.4297949120891716, 0.4861967361004687, 0.5406408174555976  …  -0.5406408174555982, -0.4861967361004688, -0.4297949120891719, -0.37166245566032724, -0.31203344569848707, -0.2511479871810794, -0.18925124436041063, -0.12659245357374993, -0.06342391965656452, -2.4492935982947064e-16]\n",
       " [0.03170131260506335, 0.0634239196565645, 0.12659245357374926, 0.1892512443604102, 0.2511479871810792, 0.31203344569848707, 0.3716624556603275, 0.4297949120891716, 0.4861967361004687, 0.5406408174555976  …  -0.5406408174555982, -0.4861967361004688, -0.4297949120891719, -0.37166245566032724, -0.31203344569848707, -0.2511479871810794, -0.18925124436041063, -0.12659245357374993, -0.06342391965656452, -2.4492935982947064e-16]\n",
       " [0.031701312604679475, 0.0634239196565645, 0.12659245357374926, 0.1892512443604102, 0.2511479871810792, 0.31203344569848707, 0.3716624556603275, 0.4297949120891716, 0.4861967361004687, 0.5406408174555976  …  -0.5406408174555982, -0.4861967361004688, -0.4297949120891719, -0.37166245566032724, -0.31203344569848707, -0.2511479871810794, -0.18925124436041063, -0.12659245357374993, -0.06342391965656452, -2.4492935982947064e-16]\n",
       " [0.03170131260607228, 0.0634239196565645, 0.12659245357374926, 0.1892512443604102, 0.2511479871810792, 0.31203344569848707, 0.3716624556603275, 0.4297949120891716, 0.4861967361004687, 0.5406408174555976  …  -0.5406408174555982, -0.4861967361004688, -0.4297949120891719, -0.37166245566032724, -0.31203344569848707, -0.2511479871810794, -0.18925124436041063, -0.12659245357374993, -0.06342391965656452, -2.4492935982947064e-16]\n",
       " [0.03170341411221796, 0.0634239196565645, 0.12659245357374926, 0.1892512443604102, 0.2511479871810792, 0.31203344569848707, 0.3716624556603275, 0.4297949120891716, 0.4861967361004687, 0.5406408174555976  …  -0.5406408174555982, -0.4861967361004688, -0.4297949120891719, -0.37166245566032724, -0.31203344569848707, -0.2511479871810794, -0.18925124436041063, -0.12659245357374993, -0.06342391965656452, -2.4492935982947064e-16]"
      ]
     },
     "metadata": {},
     "output_type": "display_data"
    }
   ],
   "source": [
    "u[:, 1]"
   ]
  },
  {
   "cell_type": "code",
   "execution_count": 32,
   "metadata": {},
   "outputs": [
    {
     "name": "stdout",
     "output_type": "stream",
     "text": []
    }
   ],
   "source": []
  },
  {
   "cell_type": "code",
   "execution_count": null,
   "metadata": {},
   "outputs": [],
   "source": []
  }
 ],
 "metadata": {
  "kernelspec": {
   "display_name": "Julia 1.8.3",
   "language": "julia",
   "name": "julia-1.8"
  },
  "language_info": {
   "file_extension": ".jl",
   "mimetype": "application/julia",
   "name": "julia",
   "version": "1.8.3"
  },
  "vscode": {
   "interpreter": {
    "hash": "820d776940a02930c69820a8cec178404e4e9e60b6116e2717a21913b50566a0"
   }
  }
 },
 "nbformat": 4,
 "nbformat_minor": 2
}
